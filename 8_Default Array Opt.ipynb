{
 "cells": [
  {
   "cell_type": "code",
   "execution_count": 1,
   "metadata": {},
   "outputs": [],
   "source": [
    "import numpy as np"
   ]
  },
  {
   "cell_type": "code",
   "execution_count": 9,
   "metadata": {},
   "outputs": [
    {
     "name": "stdout",
     "output_type": "stream",
     "text": [
      "[-32768]\n"
     ]
    }
   ],
   "source": [
    "# np.int16 Integer (-32768 to  32767)\n",
    "# np.int32 Integer (-2147483648 to  2147483647)\n",
    "# np.int64 Integer (-9223372036854775808 to  9223372036854775807)\n",
    "\n",
    "arr_a = np.array([32768], dtype=np.int16)\n",
    "print(arr_a)"
   ]
  },
  {
   "cell_type": "code",
   "execution_count": 14,
   "metadata": {},
   "outputs": [
    {
     "name": "stdout",
     "output_type": "stream",
     "text": [
      "[    0     1 65535]\n"
     ]
    }
   ],
   "source": [
    "# np.uint16 Unsigned integer (0 to 65535)\n",
    "# np.uint32 Unsigned integer (0 to 4294967295)\n",
    "# np.uint64 Unsigned integer (0 to 18446744073709551615)\n",
    "arr_b = np.array([0, 65537, -1], dtype=np.uint16)\n",
    "print(arr_b)"
   ]
  }
 ],
 "metadata": {
  "kernelspec": {
   "display_name": "Python 3",
   "language": "python",
   "name": "python3"
  },
  "language_info": {
   "codemirror_mode": {
    "name": "ipython",
    "version": 3
   },
   "file_extension": ".py",
   "mimetype": "text/x-python",
   "name": "python",
   "nbconvert_exporter": "python",
   "pygments_lexer": "ipython3",
   "version": "3.6.5"
  }
 },
 "nbformat": 4,
 "nbformat_minor": 2
}
