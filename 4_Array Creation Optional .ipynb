{
 "cells": [
  {
   "cell_type": "code",
   "execution_count": 9,
   "metadata": {},
   "outputs": [
    {
     "name": "stdout",
     "output_type": "stream",
     "text": [
      "(4, 3)\n",
      "\n",
      "[[ 1.   2.   3. ]\n",
      " [ 9.   8.   7. ]\n",
      " [ 2.   3.   4. ]\n",
      " [10.1  3.3  4.4]]\n"
     ]
    }
   ],
   "source": [
    "import numpy as np\n",
    "\n",
    "# 3 x 3\n",
    "# 10 x 10\n",
    "seq_a = [1, 2, 3]\n",
    "seq_b = [9, 8, 7]\n",
    "seq_c = [2, 3, 4]\n",
    "seq_d = [10.1, 3.3, 4.4]\n",
    "array_abc = np.array([seq_a, seq_b, seq_c,seq_d])\n",
    "print(array_abc.shape)\n",
    "print()\n",
    "print(array_abc)"
   ]
  },
  {
   "cell_type": "code",
   "execution_count": 11,
   "metadata": {},
   "outputs": [
    {
     "name": "stdout",
     "output_type": "stream",
     "text": [
      "(5, 2)\n",
      "\n",
      "[[1 2]\n",
      " [3 4]\n",
      " [5 6]\n",
      " [6 7]\n",
      " [7 8]]\n"
     ]
    }
   ],
   "source": [
    "arr_d = np.array([[1,2],[3,4],[5,6],[6,7],[7,8]])\n",
    "print(arr_d.shape)\n",
    "print()\n",
    "print(arr_d)"
   ]
  }
 ],
 "metadata": {
  "kernelspec": {
   "display_name": "Python 3",
   "language": "python",
   "name": "python3"
  },
  "language_info": {
   "codemirror_mode": {
    "name": "ipython",
    "version": 3
   },
   "file_extension": ".py",
   "mimetype": "text/x-python",
   "name": "python",
   "nbconvert_exporter": "python",
   "pygments_lexer": "ipython3",
   "version": "3.6.5"
  }
 },
 "nbformat": 4,
 "nbformat_minor": 2
}
